{
 "cells": [
  {
   "cell_type": "code",
   "execution_count": 12,
   "id": "36a80f53",
   "metadata": {},
   "outputs": [],
   "source": [
    "import cv2\n",
    "import pandas as pd\n",
    "import os\n",
    "from PIL import Image\n",
    "import numpy as np\n",
    "import matplotlib.pyplot as plt\n",
    "from ipywidgets import interact"
   ]
  },
  {
   "cell_type": "code",
   "execution_count": 13,
   "id": "da49ce68",
   "metadata": {},
   "outputs": [],
   "source": [
    "classes = ['bicycle', 'bus', 'car', 'carrier', 'cat', 'dog', 'motorcycle', \n",
    "        'movable_signage', 'person', 'scooter', 'stroller', 'truck', 'wheelchair', \n",
    "        'barricade', 'bench', 'bollard', 'chair', 'fire_hydrant', 'kiosk', 'parking_meter', \n",
    "        'pole', 'potted_plant', 'power_controller', 'stop', 'table', 'traffic_light', \n",
    "        'traffic_light_controller', 'traffic_sign', 'tree_trunk']\n",
    "columns_dict = {label: name for label, name in enumerate(classes)}"
   ]
  },
  {
   "cell_type": "code",
   "execution_count": 14,
   "id": "ea571849",
   "metadata": {},
   "outputs": [
    {
     "data": {
      "text/plain": [
       "{0: 'bicycle',\n",
       " 1: 'bus',\n",
       " 2: 'car',\n",
       " 3: 'carrier',\n",
       " 4: 'cat',\n",
       " 5: 'dog',\n",
       " 6: 'motorcycle',\n",
       " 7: 'movable_signage',\n",
       " 8: 'person',\n",
       " 9: 'scooter',\n",
       " 10: 'stroller',\n",
       " 11: 'truck',\n",
       " 12: 'wheelchair',\n",
       " 13: 'barricade',\n",
       " 14: 'bench',\n",
       " 15: 'bollard',\n",
       " 16: 'chair',\n",
       " 17: 'fire_hydrant',\n",
       " 18: 'kiosk',\n",
       " 19: 'parking_meter',\n",
       " 20: 'pole',\n",
       " 21: 'potted_plant',\n",
       " 22: 'power_controller',\n",
       " 23: 'stop',\n",
       " 24: 'table',\n",
       " 25: 'traffic_light',\n",
       " 26: 'traffic_light_controller',\n",
       " 27: 'traffic_sign',\n",
       " 28: 'tree_trunk'}"
      ]
     },
     "execution_count": 14,
     "metadata": {},
     "output_type": "execute_result"
    }
   ],
   "source": [
    "columns_dict"
   ]
  },
  {
   "cell_type": "code",
   "execution_count": 15,
   "id": "8b6421bb",
   "metadata": {},
   "outputs": [],
   "source": [
    "label_dir = \"D:\\\\train_last\\\\labels\"\n",
    "image_dir = \"D:\\\\train_last\\\\images\"\n",
    "file_list = os.listdir(label_dir)"
   ]
  },
  {
   "cell_type": "code",
   "execution_count": 16,
   "id": "99f9d8a0",
   "metadata": {},
   "outputs": [],
   "source": [
    "file_list.sort()"
   ]
  },
  {
   "cell_type": "code",
   "execution_count": 17,
   "id": "c136ff47",
   "metadata": {},
   "outputs": [],
   "source": [
    "image_ids = []\n",
    "class_name = []\n",
    "class_id = []\n",
    "x_min = []\n",
    "y_min = []\n",
    "x_max = []\n",
    "y_max = []\n",
    "width = 1920\n",
    "height = 1080\n",
    "draw_filename = []\n",
    "target_class = 24"
   ]
  },
  {
   "cell_type": "code",
   "execution_count": 18,
   "id": "e5b1a04f",
   "metadata": {},
   "outputs": [],
   "source": [
    "# 원하는 클래스가 있는 이미지 인덱스 뽑아냄\n",
    "# 해당 이미지만 show"
   ]
  },
  {
   "cell_type": "code",
   "execution_count": 19,
   "id": "053ceb51",
   "metadata": {},
   "outputs": [],
   "source": [
    "for file_name in file_list:\n",
    "    f = open(os.path.join(label,file_name), 'r', encoding='utf-8')\n",
    "    lines = f.readlines()\n",
    "    \n",
    "    for line in lines:\n",
    "        line = line.strip()\n",
    "        label  = int(line.split()[0])\n",
    "        if label == target_class:\n",
    "            draw_filename.append(file_name)\n",
    "            break"
   ]
  },
  {
   "cell_type": "code",
   "execution_count": 26,
   "id": "bc995eb7",
   "metadata": {},
   "outputs": [
    {
     "data": {
      "application/vnd.jupyter.widget-view+json": {
       "model_id": "09f1c5c0b6564758b66c8d48cb7bcfc6",
       "version_major": 2,
       "version_minor": 0
      },
      "text/plain": [
       "interactive(children=(IntSlider(value=0, description='idx', max=116), Output()), _dom_classes=('widget-interac…"
      ]
     },
     "metadata": {},
     "output_type": "display_data"
    }
   ],
   "source": [
    "len_ = len(draw_filename)\n",
    "@interact(idx=(0,len_-1))\n",
    "def show_img(idx=0):\n",
    "    file_name = draw_filename[idx]\n",
    "    image_name = file_name.split('.')[0]+'.jpg'\n",
    "    if not os.path.isfile(os.path.join(image_dir,image_name)):\n",
    "        image_name = file_name.split('.')[0]+'.png'\n",
    "    f = open(os.path.join(label_dir,file_name), 'r', encoding='utf-8')\n",
    "    lines = f.readlines()\n",
    "    img = Image.open(os.path.join(image_dir,image_name))\n",
    "    img_np = np.array(img)\n",
    "    opencv_image=cv2.cvtColor(x, cv2.COLOR_RGB2BGR)\n",
    "    for line in lines:\n",
    "        line = line.strip()\n",
    "        label,x_center,y_center,w,h  = map(float, line.split())\n",
    "        label = int(label)\n",
    "        image_ids.append(file_name.split('.')[0])\n",
    "        class_name.append(columns_dict[label])\n",
    "        class_id.append(label)\n",
    "        x_center *= width\n",
    "        w *= width\n",
    "        y_center *= height\n",
    "        h *= height\n",
    "        x1 = int(x_center-w/2)\n",
    "        x2 = int(x_center+w/2)\n",
    "        y1 = int(y_center-h/2)\n",
    "        y2 = int(y_center+h/2)\n",
    "        if label == target_class:\n",
    "            color = (255,0,0)\n",
    "            img_np = cv2.rectangle(img_np, (x1,y1),(x2,y2),color,3)\n",
    "        else:\n",
    "            color = (0,0,255)\n",
    "            img_np = cv2.rectangle(img_np, (x1,y1),(x2,y2),color,2)\n",
    "\n",
    "        plt.imshow(img_np)"
   ]
  }
 ],
 "metadata": {
  "kernelspec": {
   "display_name": "Python 3 (ipykernel)",
   "language": "python",
   "name": "python3"
  },
  "language_info": {
   "codemirror_mode": {
    "name": "ipython",
    "version": 3
   },
   "file_extension": ".py",
   "mimetype": "text/x-python",
   "name": "python",
   "nbconvert_exporter": "python",
   "pygments_lexer": "ipython3",
   "version": "3.10.6"
  }
 },
 "nbformat": 4,
 "nbformat_minor": 5
}
